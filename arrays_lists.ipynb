{
  "nbformat": 4,
  "nbformat_minor": 0,
  "metadata": {
    "colab": {
      "provenance": [],
      "authorship_tag": "ABX9TyOjXaBntcxBYsCzD6tUaHNq",
      "include_colab_link": true
    },
    "kernelspec": {
      "name": "python3",
      "display_name": "Python 3"
    },
    "language_info": {
      "name": "python"
    }
  },
  "cells": [
    {
      "cell_type": "markdown",
      "metadata": {
        "id": "view-in-github",
        "colab_type": "text"
      },
      "source": [
        "<a href=\"https://colab.research.google.com/github/AmruthaSmiley/arrays-lists/blob/main/arrays_lists.ipynb\" target=\"_parent\"><img src=\"https://colab.research.google.com/assets/colab-badge.svg\" alt=\"Open In Colab\"/></a>"
      ]
    },
    {
      "cell_type": "markdown",
      "source": [
        "DS\n",
        "\n",
        "1.ARRAYS/LISTS\n",
        "\n",
        "2.STRING\n",
        "\n",
        "3.STACKS\n",
        "\n",
        "4.QUEUES\n",
        "\n",
        "5.LINKEDLIST\n",
        "\n",
        "6.HASHING/HASHTABLES\n",
        "\n",
        "7.SETS\n",
        "\n",
        "8.TREES\n",
        "\n",
        "9.GRAPHS\n",
        "\n",
        "10.HEAPS/PRIYORITY QUEUE\n",
        "\n",
        "11.TRIE\n",
        "\n",
        "12.RECURSION/BACKTRACKING\n",
        "\n",
        "13.SEARCHIG\n",
        "\n",
        "14.GREEDY/BRUTE FORCE"
      ],
      "metadata": {
        "id": "oNRhgoIBiGvh"
      }
    },
    {
      "cell_type": "code",
      "execution_count": 2,
      "metadata": {
        "colab": {
          "base_uri": "https://localhost:8080/"
        },
        "id": "dcOnj5RdrtF9",
        "outputId": "4a424b7f-f401-411a-8a11-8a01d0fa06a2"
      },
      "outputs": [
        {
          "output_type": "stream",
          "name": "stdout",
          "text": [
            "[10, 20, 30, 40]\n",
            "10 20 25 30 40 50 \n",
            "10 20 25 40 \n",
            " 25 in array?  True\n"
          ]
        }
      ],
      "source": [
        "#ARRAY OPERATIONS\n",
        "#PROGRAM TO CONSICDER A LIST ARR=[10,20,30,40] AND PERFORM INSERT OPERATION 50 AND 25 AT POSITION 2 RESPECTIVELY DELETE 30 AND TRAVERSE THE ARRAY TO FETCH A NUMBER 25 IS PRESENT OR NOT.\n",
        "arr=[10,20,30,40]\n",
        "print(arr)\n",
        "arr.append(50)\n",
        "arr.insert(2,25)\n",
        "#print(arr)\n",
        "for i in arr:\n",
        "  print(i,end=' ')\n",
        "arr.remove(30)\n",
        "arr.pop()\n",
        "print()\n",
        "#print(arr)\n",
        "#traversal\n",
        "for i in arr:\n",
        "  print(i,end=' ')\n",
        "print(\"\\n 25 in array? \",25 in arr)"
      ]
    },
    {
      "cell_type": "markdown",
      "source": [
        "***palindrome***"
      ],
      "metadata": {
        "id": "rjdB10O1i33D"
      }
    },
    {
      "cell_type": "code",
      "source": [
        "'''program to check whether the given string is palindrome or not and count the palindromic characters ehich are repeated\n",
        "str=madam\n",
        "output:{m:2,a:1,d:1}\n",
        "str=malayalam'''\n",
        "text= input(\"enter a name:\")\n",
        "if text==text[::-1]:\n",
        "  print(\"PALINDROME\")\n",
        "else:\n",
        "  print(\"IT IS NOT\")\n",
        "freq={}\n",
        "for ch in text:\n",
        "  freq[ch]=freq.get(ch,0)+1\n",
        "print(freq)"
      ],
      "metadata": {
        "colab": {
          "base_uri": "https://localhost:8080/"
        },
        "id": "wVK14omnr4Bc",
        "outputId": "7cf638b0-d951-48f7-f41c-961fb9960178"
      },
      "execution_count": 3,
      "outputs": [
        {
          "output_type": "stream",
          "name": "stdout",
          "text": [
            "enter a name:MALAYALAM\n",
            "PALINDROME\n",
            "{'M': 2, 'A': 4, 'L': 2, 'Y': 1}\n"
          ]
        }
      ]
    }
  ]
}